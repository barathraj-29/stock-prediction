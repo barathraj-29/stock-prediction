{
 "cells": [
  {
   "cell_type": "code",
   "execution_count": null,
   "id": "1f75892f",
   "metadata": {},
   "outputs": [
    {
     "name": "stdout",
     "output_type": "stream",
     "text": [
      " * Serving Flask app '__main__'\n",
      " * Debug mode: off\n"
     ]
    },
    {
     "name": "stderr",
     "output_type": "stream",
     "text": [
      "C:\\Users\\Barath\\AppData\\Roaming\\Python\\Python311\\site-packages\\sklearn\\base.py:347: InconsistentVersionWarning: Trying to unpickle estimator LinearRegression from version 1.1.2 when using version 1.3.0. This might lead to breaking code or invalid results. Use at your own risk. For more info please refer to:\n",
      "https://scikit-learn.org/stable/model_persistence.html#security-maintainability-limitations\n",
      "  warnings.warn(\n",
      "WARNING: This is a development server. Do not use it in a production deployment. Use a production WSGI server instead.\n",
      " * Running on http://localhost:8002\n",
      "Press CTRL+C to quit\n"
     ]
    }
   ],
   "source": [
    "import numpy as np\n",
    "from flask import Flask, request, jsonify, render_template\n",
    "import pickle\n",
    "import joblib\n",
    "\n",
    "app = Flask(__name__)\n",
    "model = joblib.load('LR.pkl')\n",
    "\n",
    "@app.route('/')\n",
    "def home():\n",
    "    return render_template('index.html')\n",
    "\n",
    "@app.route('/predict',methods=['POST'])\n",
    "def predict():\n",
    "    '''\n",
    "    For rendering results on HTML GUI\n",
    "    '''\n",
    "    int_features = [int(x) for x in request.form.values()]\n",
    "    print(int_features)\n",
    "    company = int_features.pop(0)\n",
    "    int_features.append(company)\n",
    "    print(int_features)\n",
    "    final_features = [np.array(int_features)]\n",
    "    print(final_features)\n",
    "    prediction = model.predict(final_features)\n",
    "    output = prediction[0]\n",
    "    output = int(output)\n",
    "    print(type(output))\n",
    "    print(output)\n",
    "    print(int_features[4])\n",
    "    if int_features[4] == 0 and output >= 1500:\n",
    "        company = 'AMAZON'\n",
    "        a = 'INCREASE'\n",
    "        c = output\n",
    "        \n",
    "    elif int_features[4] == 0 and output < 1500:\n",
    "        company = 'AMAZON'\n",
    "        a = 'DECREASE'\n",
    "        c = output\n",
    "        \n",
    "    elif int_features[4] == 1 and output >= 500:\n",
    "        a = 'INCREASE'\n",
    "        company = 'LIC'\n",
    "        c = output\n",
    "        \n",
    "    elif int_features[4] == 1 and output < 500:\n",
    "        company = 'LIC'\n",
    "        a = 'DECREASE'\n",
    "        c = output\n",
    "        \n",
    "    elif int_features[4] == 2 and output >= 300:\n",
    "        a = 'INCREASE'\n",
    "        company = 'NETFLIX'\n",
    "        c = output\n",
    "        \n",
    "    elif int_features[4] == 2 and output < 300:\n",
    "        a = 'DECREASE'\n",
    "        company = 'NETFLIX'\n",
    "        c = output\n",
    "        \n",
    "    elif int_features[4] == 3 and output >= 40:\n",
    "        a = 'INCREASE'\n",
    "        company = 'TWITTER'\n",
    "        c = output\n",
    "        \n",
    "    else:\n",
    "        company = 'TWITTER'\n",
    "        a = 'DECREASE'\n",
    "        c = output\n",
    "    \n",
    "    return render_template('index.html', prediction_text=f\"THE {company} STOCK WILL BE {a} N THIS CONDITIONS. THE CLOSING RATE OF {company} IS {c}\")\n",
    "    \n",
    "\n",
    "if __name__ == \"__main__\":\n",
    "    app.run(host=\"localhost\", port=8002)\n"
   ]
  },
  {
   "cell_type": "code",
   "execution_count": null,
   "id": "a2e41f2f",
   "metadata": {},
   "outputs": [],
   "source": []
  },
  {
   "cell_type": "code",
   "execution_count": null,
   "id": "f478afbe",
   "metadata": {},
   "outputs": [],
   "source": []
  },
  {
   "cell_type": "code",
   "execution_count": null,
   "id": "2c8b2793",
   "metadata": {},
   "outputs": [],
   "source": []
  }
 ],
 "metadata": {
  "kernelspec": {
   "display_name": "Python 3 (ipykernel)",
   "language": "python",
   "name": "python3"
  },
  "language_info": {
   "codemirror_mode": {
    "name": "ipython",
    "version": 3
   },
   "file_extension": ".py",
   "mimetype": "text/x-python",
   "name": "python",
   "nbconvert_exporter": "python",
   "pygments_lexer": "ipython3",
   "version": "3.11.4"
  },
  "vscode": {
   "interpreter": {
    "hash": "1d8a74aa1a7d70a360a5965f6b061b14ed31af0aaef5bbbe0bf0c2f42a981527"
   }
  }
 },
 "nbformat": 4,
 "nbformat_minor": 5
}
